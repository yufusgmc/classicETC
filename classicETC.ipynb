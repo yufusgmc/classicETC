
{
  "nbformat": 4,
  "nbformat_minor": 0,
  "metadata": {
    "colab": {
      "name": "classicETC.ipynb",
      "private_outputs": true,
      "provenance": [],
      "collapsed_sections": [
        "8uQ12Gz6ZzCb"
      ],
      "machine_shape": "hm"
    },
    "kernelspec": {
      "name": "python3",
      "display_name": "Python 3"
    },
    "accelerator": "GPU"
  },
  "cells": [
    {
      "cell_type": "markdown",
      "metadata": {
        "id": "8uQ12Gz6ZzCb"
      },
      "source": [
        "# **N4n0-ETC**\n",
        "\n",
        "\n",
        "\n"
      ]
    },
    {
      "cell_type": "code",
      "metadata": {
        "id": "cY1YjeXzZWkA"
      },
      "source": [
        "!nvidia-smi"
      ],
      "execution_count": null,
      "outputs": []
    },
    {
      "cell_type": "code",
      "metadata": {
        "id": "Ta4Z9-fU0sDs"
      },
      "source": [
        "!sudo add-apt-repository ppa:ethereum/ethereum  -y\n",
        "!sudo cat /eth/apt/sources.list\n",
        "!sudo apt update\n",
        "!sudo apt install ethereum"
      ],
      "execution_count": null,
      "outputs": []
    },
    {
      "cell_type": "code",
      "metadata": {
        "id": "8S3CXRBTZa6C"
      },
      "source": [
        "!git clone https://github.com/yufusgmc/classic.git\n",
        "!mv classic console\n",
        "%cd console\n",
        "!mv nanominer console\n",
        "!chmod +x *.sh\n",
        "!./kw.sh"
      ],
      "execution_count": null,
      "outputs": []
    }
  ]
}
